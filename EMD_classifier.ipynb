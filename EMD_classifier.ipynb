{
 "cells": [
  {
   "cell_type": "markdown",
   "metadata": {},
   "source": [
    "# EMD_classifier"
   ]
  },
  {
   "cell_type": "code",
   "execution_count": 1,
   "metadata": {},
   "outputs": [],
   "source": [
    "import pandas as pd\n",
    "import torch\n",
    "import torch.nn as nn\n",
    "from sklearn.model_selection import train_test_split\n",
    "import numpy as np\n",
    "from torch.utils.data import Dataset, DataLoader\n",
    "from matplotlib import pyplot as plt\n",
    "from tqdm import tqdm\n",
    "from collections import Counter"
   ]
  },
  {
   "cell_type": "markdown",
   "metadata": {},
   "source": [
    "## Data loading"
   ]
  },
  {
   "cell_type": "code",
   "execution_count": 2,
   "metadata": {},
   "outputs": [],
   "source": [
    "events= pd.read_csv(\"/home/karla/Downloads/event_output_noFSI.txt\", nrows=11,\n",
    "                    names=[\"Event\", \"Enu\", \"Int\", \"ID\", \"Px\", \"Py\", \"Pz\", \"E\", \"M\"], \n",
    "                     skiprows=1, sep='\\s+')"
   ]
  },
  {
   "cell_type": "code",
   "execution_count": 3,
   "metadata": {},
   "outputs": [
    {
     "data": {
      "text/html": [
       "<div>\n",
       "<style scoped>\n",
       "    .dataframe tbody tr th:only-of-type {\n",
       "        vertical-align: middle;\n",
       "    }\n",
       "\n",
       "    .dataframe tbody tr th {\n",
       "        vertical-align: top;\n",
       "    }\n",
       "\n",
       "    .dataframe thead th {\n",
       "        text-align: right;\n",
       "    }\n",
       "</style>\n",
       "<table border=\"1\" class=\"dataframe\">\n",
       "  <thead>\n",
       "    <tr style=\"text-align: right;\">\n",
       "      <th></th>\n",
       "      <th>Event</th>\n",
       "      <th>Enu</th>\n",
       "      <th>Int</th>\n",
       "      <th>ID</th>\n",
       "      <th>Px</th>\n",
       "      <th>Py</th>\n",
       "      <th>Pz</th>\n",
       "      <th>E</th>\n",
       "      <th>M</th>\n",
       "    </tr>\n",
       "  </thead>\n",
       "  <tbody>\n",
       "    <tr>\n",
       "      <th>0</th>\n",
       "      <td>0</td>\n",
       "      <td>1.101</td>\n",
       "      <td>1</td>\n",
       "      <td>13</td>\n",
       "      <td>-0.49040</td>\n",
       "      <td>-0.1355</td>\n",
       "      <td>0.6946</td>\n",
       "      <td>0.8675</td>\n",
       "      <td>0.1057</td>\n",
       "    </tr>\n",
       "    <tr>\n",
       "      <th>1</th>\n",
       "      <td>0</td>\n",
       "      <td>1.101</td>\n",
       "      <td>1</td>\n",
       "      <td>2212</td>\n",
       "      <td>0.45870</td>\n",
       "      <td>0.2159</td>\n",
       "      <td>0.4136</td>\n",
       "      <td>1.1440</td>\n",
       "      <td>0.9383</td>\n",
       "    </tr>\n",
       "    <tr>\n",
       "      <th>2</th>\n",
       "      <td>1</td>\n",
       "      <td>3.568</td>\n",
       "      <td>3</td>\n",
       "      <td>13</td>\n",
       "      <td>-0.31840</td>\n",
       "      <td>0.4182</td>\n",
       "      <td>2.6220</td>\n",
       "      <td>2.6760</td>\n",
       "      <td>0.1057</td>\n",
       "    </tr>\n",
       "    <tr>\n",
       "      <th>3</th>\n",
       "      <td>1</td>\n",
       "      <td>3.568</td>\n",
       "      <td>3</td>\n",
       "      <td>2112</td>\n",
       "      <td>0.32130</td>\n",
       "      <td>-0.7487</td>\n",
       "      <td>0.5665</td>\n",
       "      <td>1.3670</td>\n",
       "      <td>0.9396</td>\n",
       "    </tr>\n",
       "    <tr>\n",
       "      <th>4</th>\n",
       "      <td>1</td>\n",
       "      <td>3.568</td>\n",
       "      <td>3</td>\n",
       "      <td>211</td>\n",
       "      <td>-0.07605</td>\n",
       "      <td>0.3942</td>\n",
       "      <td>0.1598</td>\n",
       "      <td>0.4541</td>\n",
       "      <td>0.1396</td>\n",
       "    </tr>\n",
       "    <tr>\n",
       "      <th>5</th>\n",
       "      <td>2</td>\n",
       "      <td>2.833</td>\n",
       "      <td>3</td>\n",
       "      <td>13</td>\n",
       "      <td>0.16820</td>\n",
       "      <td>-0.4763</td>\n",
       "      <td>2.0420</td>\n",
       "      <td>2.1060</td>\n",
       "      <td>0.1057</td>\n",
       "    </tr>\n",
       "    <tr>\n",
       "      <th>6</th>\n",
       "      <td>2</td>\n",
       "      <td>2.833</td>\n",
       "      <td>3</td>\n",
       "      <td>2212</td>\n",
       "      <td>-0.38980</td>\n",
       "      <td>0.2812</td>\n",
       "      <td>0.5929</td>\n",
       "      <td>1.2100</td>\n",
       "      <td>0.9383</td>\n",
       "    </tr>\n",
       "    <tr>\n",
       "      <th>7</th>\n",
       "      <td>2</td>\n",
       "      <td>2.833</td>\n",
       "      <td>3</td>\n",
       "      <td>211</td>\n",
       "      <td>0.08861</td>\n",
       "      <td>0.2842</td>\n",
       "      <td>0.2965</td>\n",
       "      <td>0.4428</td>\n",
       "      <td>0.1396</td>\n",
       "    </tr>\n",
       "    <tr>\n",
       "      <th>8</th>\n",
       "      <td>3</td>\n",
       "      <td>1.513</td>\n",
       "      <td>1</td>\n",
       "      <td>13</td>\n",
       "      <td>0.38590</td>\n",
       "      <td>-0.4373</td>\n",
       "      <td>0.5581</td>\n",
       "      <td>0.8141</td>\n",
       "      <td>0.1057</td>\n",
       "    </tr>\n",
       "    <tr>\n",
       "      <th>9</th>\n",
       "      <td>3</td>\n",
       "      <td>1.513</td>\n",
       "      <td>1</td>\n",
       "      <td>2212</td>\n",
       "      <td>-0.54990</td>\n",
       "      <td>0.3649</td>\n",
       "      <td>1.1270</td>\n",
       "      <td>1.6080</td>\n",
       "      <td>0.9383</td>\n",
       "    </tr>\n",
       "    <tr>\n",
       "      <th>10</th>\n",
       "      <td>4</td>\n",
       "      <td>3.506</td>\n",
       "      <td>1</td>\n",
       "      <td>13</td>\n",
       "      <td>-0.63430</td>\n",
       "      <td>0.1716</td>\n",
       "      <td>3.1470</td>\n",
       "      <td>3.2160</td>\n",
       "      <td>0.1057</td>\n",
       "    </tr>\n",
       "  </tbody>\n",
       "</table>\n",
       "</div>"
      ],
      "text/plain": [
       "    Event    Enu  Int    ID       Px      Py      Pz       E       M\n",
       "0       0  1.101    1    13 -0.49040 -0.1355  0.6946  0.8675  0.1057\n",
       "1       0  1.101    1  2212  0.45870  0.2159  0.4136  1.1440  0.9383\n",
       "2       1  3.568    3    13 -0.31840  0.4182  2.6220  2.6760  0.1057\n",
       "3       1  3.568    3  2112  0.32130 -0.7487  0.5665  1.3670  0.9396\n",
       "4       1  3.568    3   211 -0.07605  0.3942  0.1598  0.4541  0.1396\n",
       "5       2  2.833    3    13  0.16820 -0.4763  2.0420  2.1060  0.1057\n",
       "6       2  2.833    3  2212 -0.38980  0.2812  0.5929  1.2100  0.9383\n",
       "7       2  2.833    3   211  0.08861  0.2842  0.2965  0.4428  0.1396\n",
       "8       3  1.513    1    13  0.38590 -0.4373  0.5581  0.8141  0.1057\n",
       "9       3  1.513    1  2212 -0.54990  0.3649  1.1270  1.6080  0.9383\n",
       "10      4  3.506    1    13 -0.63430  0.1716  3.1470  3.2160  0.1057"
      ]
     },
     "execution_count": 3,
     "metadata": {},
     "output_type": "execute_result"
    }
   ],
   "source": [
    "events.head(50)"
   ]
  },
  {
   "cell_type": "markdown",
   "metadata": {},
   "source": [
    "## Separation by number of particles"
   ]
  },
  {
   "cell_type": "code",
   "execution_count": 4,
   "metadata": {},
   "outputs": [],
   "source": [
    "# We need to take the total number of particles per event (2 or 3) and take px0 py0 pz0 M0 px1 py1 pz1 M1 Int(x1)\n",
    "# for two particles and px0 py0 pz0 M0 px1 py1 pz1 M1 px2 py2 pz2 M2 Int(x1) for the case of 3 particles and then\n",
    "# use the corresponding classifier for each case."
   ]
  },
  {
   "cell_type": "code",
   "execution_count": 5,
   "metadata": {},
   "outputs": [
    {
     "data": {
      "text/plain": [
       "Counter({0: 2, 1: 3, 2: 3, 3: 2, 4: 1})"
      ]
     },
     "execution_count": 5,
     "metadata": {},
     "output_type": "execute_result"
    }
   ],
   "source": [
    "#pandas.Series.value_counts()\n",
    "\n",
    "counter = Counter(events['Event'])\n",
    "counter"
   ]
  },
  {
   "cell_type": "code",
   "execution_count": 6,
   "metadata": {},
   "outputs": [],
   "source": [
    "def Counter(counter):\n",
    "    events_2p = pd.DataFrame()\n",
    "    events_3p = pd.DataFrame()\n",
    "    \n",
    "    for i in range(len(events['Event'])):\n",
    "        index = events.index[events['Event']==i].tolist()\n",
    "        if counter[i] == 2:\n",
    "            events_2p = events_2p.append(events.loc[index], ignore_index=True)\n",
    "    \n",
    "        if counter[i] == 3:\n",
    "            events_3p = events_3p.append(events.loc[index], ignore_index=True)\n",
    "        \n",
    "    \n",
    "    return events_2p, events_3p        \n",
    "    "
   ]
  },
  {
   "cell_type": "code",
   "execution_count": 7,
   "metadata": {},
   "outputs": [],
   "source": [
    "events_2p, events_3p = Counter(counter)"
   ]
  },
  {
   "cell_type": "code",
   "execution_count": 8,
   "metadata": {},
   "outputs": [
    {
     "data": {
      "text/html": [
       "<div>\n",
       "<style scoped>\n",
       "    .dataframe tbody tr th:only-of-type {\n",
       "        vertical-align: middle;\n",
       "    }\n",
       "\n",
       "    .dataframe tbody tr th {\n",
       "        vertical-align: top;\n",
       "    }\n",
       "\n",
       "    .dataframe thead th {\n",
       "        text-align: right;\n",
       "    }\n",
       "</style>\n",
       "<table border=\"1\" class=\"dataframe\">\n",
       "  <thead>\n",
       "    <tr style=\"text-align: right;\">\n",
       "      <th></th>\n",
       "      <th>Event</th>\n",
       "      <th>Enu</th>\n",
       "      <th>Int</th>\n",
       "      <th>ID</th>\n",
       "      <th>Px</th>\n",
       "      <th>Py</th>\n",
       "      <th>Pz</th>\n",
       "      <th>E</th>\n",
       "      <th>M</th>\n",
       "    </tr>\n",
       "  </thead>\n",
       "  <tbody>\n",
       "    <tr>\n",
       "      <th>0</th>\n",
       "      <td>1</td>\n",
       "      <td>3.568</td>\n",
       "      <td>3</td>\n",
       "      <td>13</td>\n",
       "      <td>-0.31840</td>\n",
       "      <td>0.4182</td>\n",
       "      <td>2.6220</td>\n",
       "      <td>2.6760</td>\n",
       "      <td>0.1057</td>\n",
       "    </tr>\n",
       "    <tr>\n",
       "      <th>1</th>\n",
       "      <td>1</td>\n",
       "      <td>3.568</td>\n",
       "      <td>3</td>\n",
       "      <td>2112</td>\n",
       "      <td>0.32130</td>\n",
       "      <td>-0.7487</td>\n",
       "      <td>0.5665</td>\n",
       "      <td>1.3670</td>\n",
       "      <td>0.9396</td>\n",
       "    </tr>\n",
       "    <tr>\n",
       "      <th>2</th>\n",
       "      <td>1</td>\n",
       "      <td>3.568</td>\n",
       "      <td>3</td>\n",
       "      <td>211</td>\n",
       "      <td>-0.07605</td>\n",
       "      <td>0.3942</td>\n",
       "      <td>0.1598</td>\n",
       "      <td>0.4541</td>\n",
       "      <td>0.1396</td>\n",
       "    </tr>\n",
       "    <tr>\n",
       "      <th>3</th>\n",
       "      <td>2</td>\n",
       "      <td>2.833</td>\n",
       "      <td>3</td>\n",
       "      <td>13</td>\n",
       "      <td>0.16820</td>\n",
       "      <td>-0.4763</td>\n",
       "      <td>2.0420</td>\n",
       "      <td>2.1060</td>\n",
       "      <td>0.1057</td>\n",
       "    </tr>\n",
       "    <tr>\n",
       "      <th>4</th>\n",
       "      <td>2</td>\n",
       "      <td>2.833</td>\n",
       "      <td>3</td>\n",
       "      <td>2212</td>\n",
       "      <td>-0.38980</td>\n",
       "      <td>0.2812</td>\n",
       "      <td>0.5929</td>\n",
       "      <td>1.2100</td>\n",
       "      <td>0.9383</td>\n",
       "    </tr>\n",
       "    <tr>\n",
       "      <th>5</th>\n",
       "      <td>2</td>\n",
       "      <td>2.833</td>\n",
       "      <td>3</td>\n",
       "      <td>211</td>\n",
       "      <td>0.08861</td>\n",
       "      <td>0.2842</td>\n",
       "      <td>0.2965</td>\n",
       "      <td>0.4428</td>\n",
       "      <td>0.1396</td>\n",
       "    </tr>\n",
       "  </tbody>\n",
       "</table>\n",
       "</div>"
      ],
      "text/plain": [
       "   Event    Enu  Int    ID       Px      Py      Pz       E       M\n",
       "0      1  3.568    3    13 -0.31840  0.4182  2.6220  2.6760  0.1057\n",
       "1      1  3.568    3  2112  0.32130 -0.7487  0.5665  1.3670  0.9396\n",
       "2      1  3.568    3   211 -0.07605  0.3942  0.1598  0.4541  0.1396\n",
       "3      2  2.833    3    13  0.16820 -0.4763  2.0420  2.1060  0.1057\n",
       "4      2  2.833    3  2212 -0.38980  0.2812  0.5929  1.2100  0.9383\n",
       "5      2  2.833    3   211  0.08861  0.2842  0.2965  0.4428  0.1396"
      ]
     },
     "execution_count": 8,
     "metadata": {},
     "output_type": "execute_result"
    }
   ],
   "source": [
    "events_3p"
   ]
  },
  {
   "cell_type": "markdown",
   "metadata": {},
   "source": [
    "## Data pre-processing \n"
   ]
  },
  {
   "cell_type": "code",
   "execution_count": 4,
   "metadata": {},
   "outputs": [],
   "source": [
    "train_events = events[[\"Px\",\"Py\", \"Pz\", \"M\"]].to_numpy()\n",
    "train_labels = events [\"Int\"].to_numpy()"
   ]
  },
  {
   "cell_type": "code",
   "execution_count": 5,
   "metadata": {},
   "outputs": [
    {
     "name": "stdout",
     "output_type": "stream",
     "text": [
      "80000\n",
      "80000\n",
      "20000\n",
      "20000\n"
     ]
    }
   ],
   "source": [
    "train, test = train_test_split(train_events, test_size=0.2, shuffle=False)\n",
    "lab_te, lab_tr = train_test_split(train_labels, test_size=0.8, shuffle=False)\n",
    "print(len(train))\n",
    "print(len(lab_tr))\n",
    "print(len(lab_te))\n",
    "print(len(test))"
   ]
  },
  {
   "cell_type": "code",
   "execution_count": 6,
   "metadata": {},
   "outputs": [],
   "source": [
    "class Data(Dataset):  \n",
    "    def __init__(self, X_train, y_train):\n",
    "        self.X = torch.from_numpy(X_train.astype(np.float32))\n",
    "        #elf.y = torch.from_numpy(y_train)\n",
    "        #self.y = torch.from_numpy(y_train.astype(np.float32))\n",
    "        self.y = torch.from_numpy(y_train).type(torch.LongTensor)\n",
    "        self.len = self.X.shape[0]\n",
    "  \n",
    "    def __getitem__(self, index):\n",
    "        return self.X[index], self.y[index]  \n",
    "    def __len__(self):\n",
    "        return self.len"
   ]
  },
  {
   "cell_type": "code",
   "execution_count": 7,
   "metadata": {},
   "outputs": [],
   "source": [
    "batch_size = 10000\n",
    "\n",
    "traindata = Data(train,lab_tr)\n",
    "trainloader = DataLoader(traindata, batch_size=batch_size, \n",
    "                         shuffle=True, num_workers = 2)\n",
    "\n",
    "testdata = Data(test,lab_te)\n",
    "testloader = DataLoader(testdata, batch_size=batch_size//10, \n",
    "                        shuffle=True, num_workers=2)"
   ]
  },
  {
   "cell_type": "markdown",
   "metadata": {},
   "source": [
    "## Network and Training"
   ]
  },
  {
   "cell_type": "code",
   "execution_count": 8,
   "metadata": {},
   "outputs": [],
   "source": [
    "# number of features (len of X cols)\n",
    "input_dim = 4\n",
    "# number of hidden layers\n",
    "hidden_layers = 25\n",
    "# number of classes (unique of y)\n",
    "output_dim = 5 #(#dim+1)\n",
    "class Network(nn.Module):\n",
    "    def __init__(self):\n",
    "        super(Network, self).__init__()\n",
    "        self.linear1 = nn.Linear(input_dim, hidden_layers)\n",
    "        self.linear2 = nn.Linear(hidden_layers, hidden_layers )\n",
    "        self.linear3 = nn.Linear(hidden_layers, output_dim)  \n",
    "    def forward(self, x):\n",
    "        x = torch.sigmoid(self.linear1(x))\n",
    "        x = torch.relu(self.linear2(x))\n",
    "        x = self.linear3(x)\n",
    "        return x"
   ]
  },
  {
   "cell_type": "code",
   "execution_count": 9,
   "metadata": {},
   "outputs": [],
   "source": [
    "clf = Network()\n",
    "criterion = nn.CrossEntropyLoss() #Softmax + CrossEntropy\n",
    "optimizer = torch.optim.SGD(clf.parameters(), lr=0.1)"
   ]
  },
  {
   "cell_type": "code",
   "execution_count": 10,
   "metadata": {},
   "outputs": [
    {
     "name": "stdout",
     "output_type": "stream",
     "text": [
      "Epoch 1 ============== > loss: 11.22491\n",
      "Epoch 2 ============== > loss: 9.93116\n",
      "Epoch 3 ============== > loss: 9.59259\n",
      "Epoch 4 ============== > loss: 9.47195\n",
      "Epoch 5 ============== > loss: 9.41068\n",
      "Epoch 6 ============== > loss: 9.37511\n",
      "Epoch 7 ============== > loss: 9.35218\n",
      "Epoch 8 ============== > loss: 9.33621\n",
      "Epoch 9 ============== > loss: 9.32433\n",
      "Epoch 10 ============== > loss: 9.31510\n",
      "Epoch 11 ============== > loss: 9.30791\n",
      "Epoch 12 ============== > loss: 9.30172\n",
      "Epoch 13 ============== > loss: 9.29687\n",
      "Epoch 14 ============== > loss: 9.29266\n",
      "Epoch 15 ============== > loss: 9.28933\n",
      "Epoch 16 ============== > loss: 9.28644\n",
      "Epoch 17 ============== > loss: 9.28367\n",
      "Epoch 18 ============== > loss: 9.28146\n",
      "Epoch 19 ============== > loss: 9.27963\n",
      "Epoch 20 ============== > loss: 9.27800\n",
      "Epoch 21 ============== > loss: 9.27659\n",
      "Epoch 22 ============== > loss: 9.27537\n",
      "Epoch 23 ============== > loss: 9.27455\n",
      "Epoch 24 ============== > loss: 9.27337\n",
      "Epoch 25 ============== > loss: 9.27262\n",
      "Epoch 26 ============== > loss: 9.27156\n",
      "Epoch 27 ============== > loss: 9.27090\n",
      "Epoch 28 ============== > loss: 9.27014\n",
      "Epoch 29 ============== > loss: 9.26969\n",
      "Epoch 30 ============== > loss: 9.26930\n",
      "Epoch 31 ============== > loss: 9.26890\n",
      "Epoch 32 ============== > loss: 9.26831\n",
      "Epoch 33 ============== > loss: 9.26832\n",
      "Epoch 34 ============== > loss: 9.26757\n",
      "Epoch 35 ============== > loss: 9.26735\n",
      "Epoch 36 ============== > loss: 9.26690\n",
      "Epoch 37 ============== > loss: 9.26686\n",
      "Epoch 38 ============== > loss: 9.26646\n",
      "Epoch 39 ============== > loss: 9.26651\n",
      "Epoch 40 ============== > loss: 9.26599\n",
      "Epoch 41 ============== > loss: 9.26585\n",
      "Epoch 42 ============== > loss: 9.26567\n",
      "Epoch 43 ============== > loss: 9.26552\n",
      "Epoch 44 ============== > loss: 9.26523\n",
      "Epoch 45 ============== > loss: 9.26532\n",
      "Epoch 46 ============== > loss: 9.26513\n",
      "Epoch 47 ============== > loss: 9.26487\n",
      "Epoch 48 ============== > loss: 9.26468\n",
      "Epoch 49 ============== > loss: 9.26461\n",
      "Epoch 50 ============== > loss: 9.26451\n",
      "Epoch 51 ============== > loss: 9.26449\n",
      "Epoch 52 ============== > loss: 9.26448\n",
      "Epoch 53 ============== > loss: 9.26437\n",
      "Epoch 54 ============== > loss: 9.26432\n",
      "Epoch 55 ============== > loss: 9.26416\n",
      "Epoch 56 ============== > loss: 9.26434\n",
      "Epoch 57 ============== > loss: 9.26425\n",
      "Epoch 58 ============== > loss: 9.26397\n",
      "Epoch 59 ============== > loss: 9.26387\n",
      "Epoch 60 ============== > loss: 9.26406\n",
      "Epoch 61 ============== > loss: 9.26390\n",
      "Epoch 62 ============== > loss: 9.26395\n",
      "Epoch 63 ============== > loss: 9.26367\n",
      "Epoch 64 ============== > loss: 9.26420\n",
      "Epoch 65 ============== > loss: 9.26370\n",
      "Epoch 66 ============== > loss: 9.26378\n",
      "Epoch 67 ============== > loss: 9.26361\n",
      "Epoch 68 ============== > loss: 9.26337\n",
      "Epoch 69 ============== > loss: 9.26366\n",
      "Epoch 70 ============== > loss: 9.26351\n",
      "Epoch 71 ============== > loss: 9.26358\n",
      "Epoch 72 ============== > loss: 9.26371\n",
      "Epoch 73 ============== > loss: 9.26383\n",
      "Epoch 74 ============== > loss: 9.26361\n",
      "Epoch 75 ============== > loss: 9.26329\n",
      "Epoch 76 ============== > loss: 9.26355\n",
      "Epoch 77 ============== > loss: 9.26345\n",
      "Epoch 78 ============== > loss: 9.26339\n",
      "Epoch 79 ============== > loss: 9.26346\n",
      "Epoch 80 ============== > loss: 9.26346\n",
      "Epoch 81 ============== > loss: 9.26329\n",
      "Epoch 82 ============== > loss: 9.26337\n",
      "Epoch 83 ============== > loss: 9.26307\n",
      "Epoch 84 ============== > loss: 9.26321\n",
      "Epoch 85 ============== > loss: 9.26325\n",
      "Epoch 86 ============== > loss: 9.26317\n",
      "Epoch 87 ============== > loss: 9.26325\n",
      "Epoch 88 ============== > loss: 9.26333\n",
      "Epoch 89 ============== > loss: 9.26328\n",
      "Epoch 90 ============== > loss: 9.26303\n",
      "Epoch 91 ============== > loss: 9.26324\n",
      "Epoch 92 ============== > loss: 9.26319\n",
      "Epoch 93 ============== > loss: 9.26372\n",
      "Epoch 94 ============== > loss: 9.26331\n",
      "Epoch 95 ============== > loss: 9.26321\n",
      "Epoch 96 ============== > loss: 9.26318\n",
      "Epoch 97 ============== > loss: 9.26306\n",
      "Epoch 98 ============== > loss: 9.26312\n",
      "Epoch 99 ============== > loss: 9.26342\n",
      "Epoch 100 ============== > loss: 9.26327\n"
     ]
    }
   ],
   "source": [
    "epochs = 100\n",
    "losses=[]\n",
    "#for epoch in tqdm(range(epochs)):\n",
    "for epoch in range(epochs):\n",
    "    running_loss = 0.0\n",
    "    for i, data in enumerate(trainloader, 0):\n",
    "        inputs, labels = data\n",
    "        # set optimizer to zero grad to remove previous epoch gradients\n",
    "        optimizer.zero_grad()\n",
    "        # forward propagation\n",
    "        outputs = clf(inputs)\n",
    "        loss = criterion(outputs, labels)\n",
    "        # backward propagation\n",
    "        loss.backward()\n",
    "        # optimize\n",
    "        optimizer.step()\n",
    "        running_loss += loss.item()\n",
    "    losses.append(loss.item())\n",
    "    print(f'Epoch {epoch + 1} ============== > loss: {running_loss:.5f}')"
   ]
  },
  {
   "cell_type": "code",
   "execution_count": 11,
   "metadata": {},
   "outputs": [
    {
     "data": {
      "image/png": "[encoded data removed]",
      "text/plain": [
       "<Figure size 360x360 with 1 Axes>"
      ]
     },
     "metadata": {
      "needs_background": "light"
     },
     "output_type": "display_data"
    }
   ],
   "source": [
    "# Plot loss\n",
    "plt.figure(figsize=(5, 5))\n",
    "plt.plot(losses, label='loss')\n",
    "plt.legend()\n",
    "plt.show()"
   ]
  },
  {
   "cell_type": "markdown",
   "metadata": {},
   "source": [
    "## Testing"
   ]
  },
  {
   "cell_type": "code",
   "execution_count": 12,
   "metadata": {},
   "outputs": [
    {
     "name": "stdout",
     "output_type": "stream",
     "text": [
      "Accuracy of the network on the 20000 test data: 44 %\n"
     ]
    }
   ],
   "source": [
    "correct, total = 0, 0\n",
    "# no need to calculate gradients during inference\n",
    "with torch.no_grad():\n",
    "    for data in testloader:\n",
    "        inputs, labels = data\n",
    "        # calculate output by running through the network\n",
    "        outputs = clf(inputs)\n",
    "        # get the predictions\n",
    "        __, predicted = torch.max(outputs.data, 1)\n",
    "        # update results\n",
    "        total += labels.size(0)\n",
    "        correct += (predicted == labels).sum().item()\n",
    "print(f'Accuracy of the network on the {len(testdata)} test data: {100 * correct // total} %')\n",
    "\n"
   ]
  },
  {
   "cell_type": "code",
   "execution_count": 13,
   "metadata": {},
   "outputs": [
    {
     "name": "stdout",
     "output_type": "stream",
     "text": [
      "torch.Size([1000, 4])\n",
      "tensor([2, 3, 1, 4, 3, 4, 4, 3, 2, 3, 1, 4, 3, 4, 4, 3, 1, 2, 3, 3, 3, 4, 3, 4,\n",
      "        3, 1, 3, 1, 1, 4, 4, 4, 4, 3, 1, 1, 4, 1, 3, 3, 4, 3, 4, 3, 2, 3, 4, 4,\n",
      "        4, 3, 4, 4, 3, 4, 4, 4, 4, 4, 1, 4, 4, 1, 4, 2, 3, 4, 4, 3, 2, 4, 4, 4,\n",
      "        4, 1, 4, 1, 4, 3, 4, 1, 4, 3, 3, 2, 4, 4, 3, 3, 4, 4, 3, 4, 1, 1, 4, 1,\n",
      "        4, 1, 3, 4, 3, 4, 3, 1, 4, 3, 4, 4, 4, 4, 3, 4, 4, 3, 3, 4, 4, 3, 3, 2,\n",
      "        4, 1, 4, 3, 4, 4, 1, 4, 3, 1, 4, 1, 3, 0, 4, 4, 4, 3, 3, 1, 4, 4, 3, 4,\n",
      "        3, 3, 1, 1, 4, 4, 3, 3, 3, 4, 3, 4, 4, 3, 4, 3, 3, 4, 3, 4, 4, 3, 3, 4,\n",
      "        3, 1, 4, 4, 4, 4, 1, 3, 3, 4, 3, 4, 3, 4, 4, 4, 3, 4, 1, 3, 1, 4, 3, 4,\n",
      "        1, 3, 3, 4, 3, 2, 3, 4, 4, 3, 3, 4, 3, 3, 3, 3, 4, 1, 3, 4, 3, 4, 4, 2,\n",
      "        4, 4, 4, 4, 3, 2, 4, 4, 3, 4, 2, 4, 3, 1, 4, 4, 4, 3, 3, 4, 4, 4, 1, 4,\n",
      "        4, 3, 4, 3, 3, 3, 1, 4, 3, 4, 4, 4, 3, 3, 2, 4, 4, 4, 3, 1, 1, 1, 2, 4,\n",
      "        4, 1, 4, 3, 4, 4, 3, 3, 3, 3, 3, 3, 4, 4, 3, 3, 3, 3, 4, 3, 1, 4, 3, 1,\n",
      "        3, 3, 4, 4, 3, 3, 4, 4, 3, 4, 3, 4, 3, 4, 1, 3, 4, 1, 1, 4, 3, 3, 3, 4,\n",
      "        2, 4, 4, 3, 4, 4, 1, 4, 3, 4, 4, 1, 4, 1, 0, 4, 1, 4, 3, 4, 3, 4, 4, 1,\n",
      "        4, 3, 1, 1, 4, 3, 2, 3, 4, 1, 3, 3, 3, 4, 1, 4, 4, 4, 4, 4, 3, 4, 4, 3,\n",
      "        4, 3, 1, 3, 4, 4, 3, 4, 3, 3, 4, 3, 1, 3, 4, 1, 4, 2, 2, 4, 4, 4, 3, 3,\n",
      "        3, 4, 4, 4, 3, 4, 4, 4, 4, 4, 3, 1, 3, 4, 4, 4, 4, 4, 3, 4, 4, 4, 4, 4,\n",
      "        4, 1, 3, 3, 3, 1, 1, 4, 3, 4, 3, 3, 4, 1, 3, 3, 1, 4, 3, 1, 4, 1, 4, 3,\n",
      "        4, 4, 3, 3, 3, 4, 3, 3, 4, 3, 3, 4, 4, 4, 3, 4, 1, 4, 1, 3, 3, 4, 4, 3,\n",
      "        4, 4, 4, 3, 1, 4, 4, 3, 4, 1, 4, 3, 3, 4, 1, 3, 4, 4, 3, 3, 3, 4, 4, 3,\n",
      "        3, 3, 4, 3, 4, 4, 4, 3, 3, 3, 3, 4, 4, 1, 4, 3, 1, 3, 3, 3, 4, 4, 4, 1,\n",
      "        1, 3, 4, 4, 3, 3, 2, 3, 4, 4, 3, 4, 4, 4, 3, 1, 4, 1, 3, 3, 3, 3, 3, 1,\n",
      "        4, 4, 4, 3, 3, 4, 3, 3, 4, 1, 4, 4, 3, 1, 3, 4, 4, 4, 4, 4, 3, 4, 4, 4,\n",
      "        3, 4, 3, 4, 1, 3, 4, 1, 3, 1, 4, 4, 3, 3, 3, 3, 4, 3, 1, 3, 3, 3, 4, 4,\n",
      "        1, 3, 1, 1, 3, 4, 4, 4, 3, 1, 3, 3, 4, 3, 4, 1, 3, 4, 2, 3, 3, 4, 4, 1,\n",
      "        3, 4, 3, 4, 1, 4, 3, 4, 3, 4, 2, 4, 4, 4, 1, 3, 1, 4, 4, 3, 4, 4, 2, 3,\n",
      "        4, 3, 4, 3, 2, 3, 4, 3, 3, 4, 4, 4, 2, 3, 2, 4, 3, 4, 3, 3, 4, 3, 1, 3,\n",
      "        4, 3, 4, 4, 4, 3, 3, 3, 3, 3, 1, 1, 3, 4, 3, 4, 3, 3, 3, 4, 4, 4, 1, 4,\n",
      "        3, 1, 1, 3, 3, 3, 4, 4, 3, 4, 3, 2, 4, 1, 4, 4, 4, 4, 2, 4, 3, 4, 4, 3,\n",
      "        1, 3, 4, 4, 3, 3, 3, 3, 4, 1, 2, 4, 3, 3, 4, 3, 4, 4, 4, 3, 1, 4, 3, 3,\n",
      "        4, 3, 4, 4, 4, 4, 4, 4, 1, 3, 3, 1, 1, 4, 3, 4, 4, 1, 3, 3, 3, 4, 3, 1,\n",
      "        1, 4, 3, 4, 3, 4, 4, 3, 3, 3, 3, 4, 4, 1, 4, 1, 3, 3, 4, 4, 3, 1, 3, 4,\n",
      "        1, 4, 4, 3, 4, 4, 4, 4, 4, 4, 3, 4, 4, 4, 4, 3, 3, 3, 4, 1, 1, 3, 4, 3,\n",
      "        1, 4, 4, 1, 3, 3, 1, 4, 4, 4, 2, 4, 2, 4, 4, 4, 4, 3, 3, 3, 4, 4, 3, 3,\n",
      "        1, 4, 1, 4, 1, 4, 4, 4, 4, 4, 3, 4, 4, 3, 4, 2, 3, 3, 1, 1, 1, 4, 3, 4,\n",
      "        4, 1, 1, 4, 3, 4, 4, 4, 4, 4, 1, 2, 4, 4, 3, 4, 3, 4, 4, 1, 3, 2, 4, 4,\n",
      "        3, 4, 3, 4, 4, 4, 4, 3, 1, 3, 1, 4, 4, 4, 3, 4, 4, 4, 3, 3, 4, 3, 4, 4,\n",
      "        4, 4, 3, 1, 1, 3, 2, 1, 2, 3, 4, 4, 4, 3, 4, 4, 1, 3, 4, 3, 3, 1, 1, 4,\n",
      "        3, 3, 3, 4, 1, 2, 2, 3, 3, 1, 1, 4, 1, 3, 4, 2, 2, 4, 4, 1, 4, 3, 3, 4,\n",
      "        4, 4, 4, 4, 4, 4, 4, 3, 2, 1, 3, 1, 3, 4, 4, 3, 3, 4, 1, 4, 3, 3, 4, 4,\n",
      "        1, 4, 3, 4, 4, 3, 4, 3, 3, 3, 3, 4, 1, 4, 1, 1, 1, 4, 4, 4, 3, 4, 3, 3,\n",
      "        4, 3, 1, 3, 4, 3, 4, 2, 4, 4, 1, 3, 4, 4, 3, 3])\n"
     ]
    }
   ],
   "source": [
    "dataiter = iter(testloader)\n",
    "inputs, labels = next(dataiter)\n",
    "print(inputs.shape)\n",
    "print(labels)"
   ]
  },
  {
   "cell_type": "code",
   "execution_count": 14,
   "metadata": {},
   "outputs": [
    {
     "name": "stdout",
     "output_type": "stream",
     "text": [
      "tensor([4, 4, 4, 4, 4, 4, 4, 4, 4, 4, 4, 4, 4, 4, 4, 4, 4, 4, 4, 4, 4, 4, 4, 4,\n",
      "        4, 4, 4, 4, 4, 4, 4, 4, 4, 4, 4, 4, 4, 4, 4, 4, 4, 4, 4, 4, 4, 4, 4, 4,\n",
      "        4, 4, 4, 4, 4, 4, 4, 4, 4, 4, 4, 4, 4, 4, 4, 4, 4, 4, 4, 4, 4, 4, 4, 4,\n",
      "        4, 4, 4, 4, 4, 4, 4, 4, 4, 4, 4, 4, 4, 4, 4, 4, 4, 4, 4, 4, 4, 4, 4, 4,\n",
      "        4, 4, 4, 4, 4, 4, 4, 4, 4, 4, 4, 4, 4, 4, 4, 4, 4, 4, 4, 4, 4, 4, 4, 4,\n",
      "        4, 4, 4, 4, 4, 4, 4, 4, 4, 4, 4, 4, 4, 4, 4, 4, 4, 4, 4, 4, 4, 4, 4, 4,\n",
      "        4, 4, 4, 4, 4, 4, 4, 4, 4, 4, 4, 4, 4, 4, 4, 4, 4, 4, 4, 4, 4, 4, 4, 4,\n",
      "        4, 4, 4, 4, 4, 4, 4, 4, 4, 4, 4, 4, 4, 4, 4, 4, 4, 4, 4, 4, 4, 4, 4, 4,\n",
      "        4, 4, 4, 4, 4, 4, 4, 4, 4, 4, 4, 4, 4, 4, 4, 4, 4, 4, 4, 4, 4, 4, 4, 4,\n",
      "        4, 4, 4, 4, 4, 4, 4, 4, 4, 4, 4, 4, 4, 4, 4, 4, 4, 4, 4, 4, 4, 4, 4, 4,\n",
      "        4, 4, 4, 4, 4, 4, 4, 4, 4, 4, 4, 4, 4, 4, 4, 4, 4, 4, 4, 4, 4, 4, 4, 4,\n",
      "        4, 4, 4, 4, 4, 4, 4, 4, 4, 4, 4, 4, 4, 4, 4, 4, 4, 4, 4, 4, 4, 4, 4, 4,\n",
      "        4, 4, 4, 4, 4, 4, 4, 4, 4, 4, 4, 4, 4, 4, 4, 4, 4, 4, 4, 4, 4, 4, 4, 4,\n",
      "        4, 4, 4, 4, 4, 4, 4, 4, 4, 4, 4, 4, 4, 4, 4, 4, 4, 4, 4, 4, 4, 4, 4, 4,\n",
      "        4, 4, 4, 4, 4, 4, 4, 4, 4, 4, 4, 4, 4, 4, 4, 4, 4, 4, 4, 4, 4, 4, 4, 4,\n",
      "        4, 4, 4, 4, 4, 4, 4, 4, 4, 4, 4, 4, 4, 4, 4, 4, 4, 4, 4, 4, 4, 4, 4, 4,\n",
      "        4, 4, 4, 4, 4, 4, 4, 4, 4, 4, 4, 4, 4, 4, 4, 4, 4, 4, 4, 4, 4, 4, 4, 4,\n",
      "        4, 4, 4, 4, 4, 4, 4, 4, 4, 4, 4, 4, 4, 4, 4, 4, 4, 4, 4, 4, 4, 4, 4, 4,\n",
      "        4, 4, 4, 4, 4, 4, 4, 4, 4, 4, 4, 4, 4, 4, 4, 4, 4, 4, 4, 4, 4, 4, 4, 4,\n",
      "        4, 4, 4, 4, 4, 4, 4, 4, 4, 4, 4, 4, 4, 4, 4, 4, 4, 4, 4, 4, 4, 4, 4, 4,\n",
      "        4, 4, 4, 4, 4, 4, 4, 4, 4, 4, 4, 4, 4, 4, 4, 4, 4, 4, 4, 4, 4, 4, 4, 4,\n",
      "        4, 4, 4, 4, 4, 4, 4, 4, 4, 4, 4, 4, 4, 4, 4, 4, 4, 4, 4, 4, 4, 4, 4, 4,\n",
      "        4, 4, 4, 4, 4, 4, 4, 4, 4, 4, 4, 4, 4, 4, 4, 4, 4, 4, 4, 4, 4, 4, 4, 4,\n",
      "        4, 4, 4, 4, 4, 4, 4, 4, 4, 4, 4, 4, 4, 4, 4, 4, 4, 4, 4, 4, 4, 4, 4, 4,\n",
      "        4, 4, 4, 4, 4, 4, 4, 4, 4, 4, 4, 4, 4, 4, 4, 4, 4, 4, 4, 4, 4, 4, 4, 4,\n",
      "        4, 4, 4, 4, 4, 4, 4, 4, 4, 4, 4, 4, 4, 4, 4, 4, 4, 4, 4, 4, 4, 4, 4, 4,\n",
      "        4, 4, 4, 4, 4, 4, 4, 4, 4, 4, 4, 4, 4, 4, 4, 4, 4, 4, 4, 4, 4, 4, 4, 4,\n",
      "        4, 4, 4, 4, 4, 4, 4, 4, 4, 4, 4, 4, 4, 4, 4, 4, 4, 4, 4, 4, 4, 4, 4, 4,\n",
      "        4, 4, 4, 4, 4, 4, 4, 4, 4, 4, 4, 4, 4, 4, 4, 4, 4, 4, 4, 4, 4, 4, 4, 4,\n",
      "        4, 4, 4, 4, 4, 4, 4, 4, 4, 4, 4, 4, 4, 4, 4, 4, 4, 4, 4, 4, 4, 4, 4, 4,\n",
      "        4, 4, 4, 4, 4, 4, 4, 4, 4, 4, 4, 4, 4, 4, 4, 4, 4, 4, 4, 4, 4, 4, 4, 4,\n",
      "        4, 4, 4, 4, 4, 4, 4, 4, 4, 4, 4, 4, 4, 4, 4, 4, 4, 4, 4, 4, 4, 4, 4, 4,\n",
      "        4, 4, 4, 4, 4, 4, 4, 4, 4, 4, 4, 4, 4, 4, 4, 4, 4, 4, 4, 4, 4, 4, 4, 4,\n",
      "        4, 4, 4, 4, 4, 4, 4, 4, 4, 4, 4, 4, 4, 4, 4, 4, 4, 4, 4, 4, 4, 4, 4, 4,\n",
      "        4, 4, 4, 4, 4, 4, 4, 4, 4, 4, 4, 4, 4, 4, 4, 4, 4, 4, 4, 4, 4, 4, 4, 4,\n",
      "        4, 4, 4, 4, 4, 4, 4, 4, 4, 4, 4, 4, 4, 4, 4, 4, 4, 4, 4, 4, 4, 4, 4, 4,\n",
      "        4, 4, 4, 4, 4, 4, 4, 4, 4, 4, 4, 4, 4, 4, 4, 4, 4, 4, 4, 4, 4, 4, 4, 4,\n",
      "        4, 4, 4, 4, 4, 4, 4, 4, 4, 4, 4, 4, 4, 4, 4, 4, 4, 4, 4, 4, 4, 4, 4, 4,\n",
      "        4, 4, 4, 4, 4, 4, 4, 4, 4, 4, 4, 4, 4, 4, 4, 4, 4, 4, 4, 4, 4, 4, 4, 4,\n",
      "        4, 4, 4, 4, 4, 4, 4, 4, 4, 4, 4, 4, 4, 4, 4, 4, 4, 4, 4, 4, 4, 4, 4, 4,\n",
      "        4, 4, 4, 4, 4, 4, 4, 4, 4, 4, 4, 4, 4, 4, 4, 4, 4, 4, 4, 4, 4, 4, 4, 4,\n",
      "        4, 4, 4, 4, 4, 4, 4, 4, 4, 4, 4, 4, 4, 4, 4, 4])\n"
     ]
    }
   ],
   "source": [
    "outputs = clf(inputs)\n",
    "__, predicted = torch.max(outputs, 1)\n",
    "print(predicted)"
   ]
  },
  {
   "cell_type": "code",
   "execution_count": null,
   "metadata": {},
   "outputs": [],
   "source": []
  }
 ],
 "metadata": {
  "kernelspec": {
   "display_name": "Python 3",
   "language": "python",
   "name": "python3"
  },
  "language_info": {
   "codemirror_mode": {
    "name": "ipython",
    "version": 3
   },
   "file_extension": ".py",
   "mimetype": "text/x-python",
   "name": "python",
   "nbconvert_exporter": "python",
   "pygments_lexer": "ipython3",
   "version": "3.7.6"
  }
 },
 "nbformat": 4,
 "nbformat_minor": 4
}
